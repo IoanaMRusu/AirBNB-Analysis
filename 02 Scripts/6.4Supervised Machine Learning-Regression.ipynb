{
 "cells": [
  {
   "cell_type": "markdown",
   "id": "ee6c545f",
   "metadata": {},
   "source": [
    "## 6.4 Supervised Machine Learning: Regression"
   ]
  },
  {
   "cell_type": "markdown",
   "id": "578a3dc1",
   "metadata": {},
   "source": [
    "### This script contains the following:\n",
    "1. Importing libraries and data\n",
    "2. Data cleaning\n",
    "3. Check extreme values\n",
    "4. Hypothesis\n",
    "5. Data prep for regression analysis\n",
    "6. Regression analysis\n",
    "7. Result/Conclusions"
   ]
  },
  {
   "cell_type": "markdown",
   "id": "916cd520",
   "metadata": {},
   "source": [
    "### 1. Importing libraries and data"
   ]
  },
  {
   "cell_type": "code",
   "execution_count": 1,
   "id": "48f7c8ee",
   "metadata": {},
   "outputs": [],
   "source": [
    "# Import libraries\n",
    "import pandas as pd\n",
    "import numpy as np\n",
    "import seaborn as sns\n",
    "import matplotlib\n",
    "import matplotlib.pyplot as plt\n",
    "import os\n",
    "import folium \n",
    "from folium.plugins import FastMarkerCluster\n",
    "from branca.colormap import LinearColormap\n",
    "from folium.features import GeoJsonPopup, GeoJsonTooltip\n",
    "import json\n",
    "import sklearn\n",
    "from sklearn.model_selection import train_test_split \n",
    "from sklearn.linear_model import LinearRegression\n",
    "from sklearn.metrics import mean_squared_error, r2_score"
   ]
  },
  {
   "cell_type": "code",
   "execution_count": 2,
   "id": "af145163",
   "metadata": {},
   "outputs": [],
   "source": [
    "# Define path\n",
    "path = r'C:\\Users\\sandu\\Desktop\\Data Immersion&Analytics\\6.ADV ANALYTICS\\3 Data\\Prepared Data'\n",
    "path1 =r'C:\\Users\\sandu\\Desktop\\Data Immersion&Analytics\\6.ADV ANALYTICS\\4 Analytics\\Visualizations'"
   ]
  },
  {
   "cell_type": "code",
   "execution_count": 3,
   "id": "93d7cfa7",
   "metadata": {},
   "outputs": [],
   "source": [
    "# Display plots without calling \n",
    "%matplotlib inline\n",
    "\n",
    "#This option ensures that the graphs you create are displayed within the notebook without the need to \"call\" them specifically."
   ]
  },
  {
   "cell_type": "code",
   "execution_count": 4,
   "id": "fbc6416b",
   "metadata": {},
   "outputs": [],
   "source": [
    "# Define column types\n",
    "dtype_options = {'15':str}"
   ]
  },
  {
   "cell_type": "code",
   "execution_count": 5,
   "id": "87cc6259",
   "metadata": {},
   "outputs": [],
   "source": [
    "# Import data\n",
    "df = pd.read_csv(os.path.join(path,'AirBnB_cleaned3.csv'),  index_col=0, low_memory=False)"
   ]
  },
  {
   "cell_type": "code",
   "execution_count": 6,
   "id": "c514d2cf",
   "metadata": {},
   "outputs": [],
   "source": [
    "# Display all columns \n",
    "pd.set_option('display.max_columns', None)"
   ]
  },
  {
   "cell_type": "markdown",
   "id": "e8a54b37",
   "metadata": {},
   "source": [
    "### 2. Data Cleanining"
   ]
  },
  {
   "cell_type": "code",
   "execution_count": 7,
   "id": "0d6fc28d",
   "metadata": {},
   "outputs": [
    {
     "data": {
      "text/plain": [
       "Index(['Review ID', 'Review_Date', 'Reviewer ID', 'Rating_Comment',\n",
       "       'Listing ID', 'Listing Name', 'Host ID', 'Host Since',\n",
       "       'Host Response Time', 'Host Response Rate', 'Is Superhost',\n",
       "       'Neighborhood Group', 'City', 'Postal Code', 'Country', 'Latitude',\n",
       "       'Longitude', 'Property Type', 'Room Type', 'Accomodates', 'Bathrooms',\n",
       "       'Bedrooms', 'Beds', 'Price', 'Guests Included', 'Min Nights', 'Reviews',\n",
       "       'First Review', 'Last Review', 'Overall Rating', 'Accuracy Rating',\n",
       "       'Cleanliness Rating', 'Checkin Rating', 'Communication Rating',\n",
       "       'Location Rating', 'Value Rating', 'Instant Bookable',\n",
       "       'Business Travel Ready', 'Price category', 'Rating Category',\n",
       "       'Accomodation Size'],\n",
       "      dtype='object')"
      ]
     },
     "execution_count": 7,
     "metadata": {},
     "output_type": "execute_result"
    }
   ],
   "source": [
    "# Display columns\n",
    "df.columns"
   ]
  },
  {
   "cell_type": "code",
   "execution_count": 8,
   "id": "b87c3f8d",
   "metadata": {
    "scrolled": true
   },
   "outputs": [
    {
     "data": {
      "text/html": [
       "<div>\n",
       "<style scoped>\n",
       "    .dataframe tbody tr th:only-of-type {\n",
       "        vertical-align: middle;\n",
       "    }\n",
       "\n",
       "    .dataframe tbody tr th {\n",
       "        vertical-align: top;\n",
       "    }\n",
       "\n",
       "    .dataframe thead th {\n",
       "        text-align: right;\n",
       "    }\n",
       "</style>\n",
       "<table border=\"1\" class=\"dataframe\">\n",
       "  <thead>\n",
       "    <tr style=\"text-align: right;\">\n",
       "      <th></th>\n",
       "      <th>Review ID</th>\n",
       "      <th>Review_Date</th>\n",
       "      <th>Reviewer ID</th>\n",
       "      <th>Rating_Comment</th>\n",
       "      <th>Listing ID</th>\n",
       "      <th>Listing Name</th>\n",
       "      <th>Host ID</th>\n",
       "      <th>Host Since</th>\n",
       "      <th>Host Response Time</th>\n",
       "      <th>Host Response Rate</th>\n",
       "      <th>Is Superhost</th>\n",
       "      <th>Neighborhood Group</th>\n",
       "      <th>City</th>\n",
       "      <th>Postal Code</th>\n",
       "      <th>Country</th>\n",
       "      <th>Latitude</th>\n",
       "      <th>Longitude</th>\n",
       "      <th>Property Type</th>\n",
       "      <th>Room Type</th>\n",
       "      <th>Accomodates</th>\n",
       "      <th>Bathrooms</th>\n",
       "      <th>Bedrooms</th>\n",
       "      <th>Beds</th>\n",
       "      <th>Price</th>\n",
       "      <th>Guests Included</th>\n",
       "      <th>Min Nights</th>\n",
       "      <th>Reviews</th>\n",
       "      <th>First Review</th>\n",
       "      <th>Last Review</th>\n",
       "      <th>Overall Rating</th>\n",
       "      <th>Accuracy Rating</th>\n",
       "      <th>Cleanliness Rating</th>\n",
       "      <th>Checkin Rating</th>\n",
       "      <th>Communication Rating</th>\n",
       "      <th>Location Rating</th>\n",
       "      <th>Value Rating</th>\n",
       "      <th>Instant Bookable</th>\n",
       "      <th>Business Travel Ready</th>\n",
       "      <th>Price category</th>\n",
       "      <th>Rating Category</th>\n",
       "      <th>Accomodation Size</th>\n",
       "    </tr>\n",
       "  </thead>\n",
       "  <tbody>\n",
       "    <tr>\n",
       "      <th>0</th>\n",
       "      <td>58660447</td>\n",
       "      <td>2016-01-03</td>\n",
       "      <td>14876562</td>\n",
       "      <td>Very nice, clean appartement! Josh was really ...</td>\n",
       "      <td>10002699</td>\n",
       "      <td>Trendy and peaceful KreuzkÃ¶lln</td>\n",
       "      <td>44696672</td>\n",
       "      <td>2015-09-20</td>\n",
       "      <td>Unknown</td>\n",
       "      <td>Unknown</td>\n",
       "      <td>False</td>\n",
       "      <td>Neukolln</td>\n",
       "      <td>Berlin</td>\n",
       "      <td>12047.0</td>\n",
       "      <td>Germany</td>\n",
       "      <td>52.49234</td>\n",
       "      <td>13.42994</td>\n",
       "      <td>Apartment</td>\n",
       "      <td>Entire home/apt</td>\n",
       "      <td>4</td>\n",
       "      <td>1.0</td>\n",
       "      <td>2.0</td>\n",
       "      <td>2.0</td>\n",
       "      <td>60.0</td>\n",
       "      <td>1</td>\n",
       "      <td>1</td>\n",
       "      <td>1</td>\n",
       "      <td>2016-01-03</td>\n",
       "      <td>2016-01-03</td>\n",
       "      <td>100.0</td>\n",
       "      <td>8.0</td>\n",
       "      <td>10.0</td>\n",
       "      <td>6.0</td>\n",
       "      <td>10.0</td>\n",
       "      <td>10.0</td>\n",
       "      <td>10.0</td>\n",
       "      <td>False</td>\n",
       "      <td>False</td>\n",
       "      <td>Middle price</td>\n",
       "      <td>Good Rating</td>\n",
       "      <td>Couple Accomodation</td>\n",
       "    </tr>\n",
       "    <tr>\n",
       "      <th>1</th>\n",
       "      <td>58663795</td>\n",
       "      <td>2016-01-03</td>\n",
       "      <td>49367757</td>\n",
       "      <td>Aki is really nice and friendly. We had an ama...</td>\n",
       "      <td>10006647</td>\n",
       "      <td>Very central and very quite</td>\n",
       "      <td>40791092</td>\n",
       "      <td>2015-08-07</td>\n",
       "      <td>within a few hours</td>\n",
       "      <td>100.0</td>\n",
       "      <td>False</td>\n",
       "      <td>Mitte</td>\n",
       "      <td>Berlin</td>\n",
       "      <td>10178.0</td>\n",
       "      <td>Germany</td>\n",
       "      <td>52.52134</td>\n",
       "      <td>13.41866</td>\n",
       "      <td>Apartment</td>\n",
       "      <td>Private room</td>\n",
       "      <td>2</td>\n",
       "      <td>1.0</td>\n",
       "      <td>1.0</td>\n",
       "      <td>1.0</td>\n",
       "      <td>35.0</td>\n",
       "      <td>1</td>\n",
       "      <td>1</td>\n",
       "      <td>20</td>\n",
       "      <td>2016-01-03</td>\n",
       "      <td>2017-02-12</td>\n",
       "      <td>92.0</td>\n",
       "      <td>9.0</td>\n",
       "      <td>8.0</td>\n",
       "      <td>9.0</td>\n",
       "      <td>10.0</td>\n",
       "      <td>10.0</td>\n",
       "      <td>9.0</td>\n",
       "      <td>False</td>\n",
       "      <td>False</td>\n",
       "      <td>Middle price</td>\n",
       "      <td>Good Rating</td>\n",
       "      <td>Single Accomodation</td>\n",
       "    </tr>\n",
       "    <tr>\n",
       "      <th>2</th>\n",
       "      <td>59003619</td>\n",
       "      <td>2016-01-05</td>\n",
       "      <td>46694292</td>\n",
       "      <td>Aki is a very nice dude with a clean place in ...</td>\n",
       "      <td>10006647</td>\n",
       "      <td>Very central and very quite</td>\n",
       "      <td>40791092</td>\n",
       "      <td>2015-08-07</td>\n",
       "      <td>within a few hours</td>\n",
       "      <td>100.0</td>\n",
       "      <td>False</td>\n",
       "      <td>Mitte</td>\n",
       "      <td>Berlin</td>\n",
       "      <td>10178.0</td>\n",
       "      <td>Germany</td>\n",
       "      <td>52.52134</td>\n",
       "      <td>13.41866</td>\n",
       "      <td>Apartment</td>\n",
       "      <td>Private room</td>\n",
       "      <td>2</td>\n",
       "      <td>1.0</td>\n",
       "      <td>1.0</td>\n",
       "      <td>1.0</td>\n",
       "      <td>35.0</td>\n",
       "      <td>1</td>\n",
       "      <td>1</td>\n",
       "      <td>20</td>\n",
       "      <td>2016-01-03</td>\n",
       "      <td>2017-02-12</td>\n",
       "      <td>92.0</td>\n",
       "      <td>9.0</td>\n",
       "      <td>8.0</td>\n",
       "      <td>9.0</td>\n",
       "      <td>10.0</td>\n",
       "      <td>10.0</td>\n",
       "      <td>9.0</td>\n",
       "      <td>False</td>\n",
       "      <td>False</td>\n",
       "      <td>Middle price</td>\n",
       "      <td>Good Rating</td>\n",
       "      <td>Single Accomodation</td>\n",
       "    </tr>\n",
       "    <tr>\n",
       "      <th>3</th>\n",
       "      <td>66845661</td>\n",
       "      <td>2016-03-25</td>\n",
       "      <td>54542819</td>\n",
       "      <td>Aki's place was easy to find and located in th...</td>\n",
       "      <td>10006647</td>\n",
       "      <td>Very central and very quite</td>\n",
       "      <td>40791092</td>\n",
       "      <td>2015-08-07</td>\n",
       "      <td>within a few hours</td>\n",
       "      <td>100.0</td>\n",
       "      <td>False</td>\n",
       "      <td>Mitte</td>\n",
       "      <td>Berlin</td>\n",
       "      <td>10178.0</td>\n",
       "      <td>Germany</td>\n",
       "      <td>52.52134</td>\n",
       "      <td>13.41866</td>\n",
       "      <td>Apartment</td>\n",
       "      <td>Private room</td>\n",
       "      <td>2</td>\n",
       "      <td>1.0</td>\n",
       "      <td>1.0</td>\n",
       "      <td>1.0</td>\n",
       "      <td>35.0</td>\n",
       "      <td>1</td>\n",
       "      <td>1</td>\n",
       "      <td>20</td>\n",
       "      <td>2016-01-03</td>\n",
       "      <td>2017-02-12</td>\n",
       "      <td>92.0</td>\n",
       "      <td>9.0</td>\n",
       "      <td>8.0</td>\n",
       "      <td>9.0</td>\n",
       "      <td>10.0</td>\n",
       "      <td>10.0</td>\n",
       "      <td>9.0</td>\n",
       "      <td>False</td>\n",
       "      <td>False</td>\n",
       "      <td>Middle price</td>\n",
       "      <td>Good Rating</td>\n",
       "      <td>Single Accomodation</td>\n",
       "    </tr>\n",
       "    <tr>\n",
       "      <th>4</th>\n",
       "      <td>67969785</td>\n",
       "      <td>2016-04-01</td>\n",
       "      <td>35352843</td>\n",
       "      <td>We had to wait 30mins for Aki to arrive but ot...</td>\n",
       "      <td>10006647</td>\n",
       "      <td>Very central and very quite</td>\n",
       "      <td>40791092</td>\n",
       "      <td>2015-08-07</td>\n",
       "      <td>within a few hours</td>\n",
       "      <td>100.0</td>\n",
       "      <td>False</td>\n",
       "      <td>Mitte</td>\n",
       "      <td>Berlin</td>\n",
       "      <td>10178.0</td>\n",
       "      <td>Germany</td>\n",
       "      <td>52.52134</td>\n",
       "      <td>13.41866</td>\n",
       "      <td>Apartment</td>\n",
       "      <td>Private room</td>\n",
       "      <td>2</td>\n",
       "      <td>1.0</td>\n",
       "      <td>1.0</td>\n",
       "      <td>1.0</td>\n",
       "      <td>35.0</td>\n",
       "      <td>1</td>\n",
       "      <td>1</td>\n",
       "      <td>20</td>\n",
       "      <td>2016-01-03</td>\n",
       "      <td>2017-02-12</td>\n",
       "      <td>92.0</td>\n",
       "      <td>9.0</td>\n",
       "      <td>8.0</td>\n",
       "      <td>9.0</td>\n",
       "      <td>10.0</td>\n",
       "      <td>10.0</td>\n",
       "      <td>9.0</td>\n",
       "      <td>False</td>\n",
       "      <td>False</td>\n",
       "      <td>Middle price</td>\n",
       "      <td>Good Rating</td>\n",
       "      <td>Single Accomodation</td>\n",
       "    </tr>\n",
       "    <tr>\n",
       "      <th>5</th>\n",
       "      <td>68816282</td>\n",
       "      <td>2016-04-06</td>\n",
       "      <td>48006291</td>\n",
       "      <td>Great room, very comfortable and clean. Aki an...</td>\n",
       "      <td>10006647</td>\n",
       "      <td>Very central and very quite</td>\n",
       "      <td>40791092</td>\n",
       "      <td>2015-08-07</td>\n",
       "      <td>within a few hours</td>\n",
       "      <td>100.0</td>\n",
       "      <td>False</td>\n",
       "      <td>Mitte</td>\n",
       "      <td>Berlin</td>\n",
       "      <td>10178.0</td>\n",
       "      <td>Germany</td>\n",
       "      <td>52.52134</td>\n",
       "      <td>13.41866</td>\n",
       "      <td>Apartment</td>\n",
       "      <td>Private room</td>\n",
       "      <td>2</td>\n",
       "      <td>1.0</td>\n",
       "      <td>1.0</td>\n",
       "      <td>1.0</td>\n",
       "      <td>35.0</td>\n",
       "      <td>1</td>\n",
       "      <td>1</td>\n",
       "      <td>20</td>\n",
       "      <td>2016-01-03</td>\n",
       "      <td>2017-02-12</td>\n",
       "      <td>92.0</td>\n",
       "      <td>9.0</td>\n",
       "      <td>8.0</td>\n",
       "      <td>9.0</td>\n",
       "      <td>10.0</td>\n",
       "      <td>10.0</td>\n",
       "      <td>9.0</td>\n",
       "      <td>False</td>\n",
       "      <td>False</td>\n",
       "      <td>Middle price</td>\n",
       "      <td>Good Rating</td>\n",
       "      <td>Single Accomodation</td>\n",
       "    </tr>\n",
       "    <tr>\n",
       "      <th>6</th>\n",
       "      <td>69289363</td>\n",
       "      <td>2016-04-10</td>\n",
       "      <td>63759402</td>\n",
       "      <td>Aki was really friendly and available giving u...</td>\n",
       "      <td>10006647</td>\n",
       "      <td>Very central and very quite</td>\n",
       "      <td>40791092</td>\n",
       "      <td>2015-08-07</td>\n",
       "      <td>within a few hours</td>\n",
       "      <td>100.0</td>\n",
       "      <td>False</td>\n",
       "      <td>Mitte</td>\n",
       "      <td>Berlin</td>\n",
       "      <td>10178.0</td>\n",
       "      <td>Germany</td>\n",
       "      <td>52.52134</td>\n",
       "      <td>13.41866</td>\n",
       "      <td>Apartment</td>\n",
       "      <td>Private room</td>\n",
       "      <td>2</td>\n",
       "      <td>1.0</td>\n",
       "      <td>1.0</td>\n",
       "      <td>1.0</td>\n",
       "      <td>35.0</td>\n",
       "      <td>1</td>\n",
       "      <td>1</td>\n",
       "      <td>20</td>\n",
       "      <td>2016-01-03</td>\n",
       "      <td>2017-02-12</td>\n",
       "      <td>92.0</td>\n",
       "      <td>9.0</td>\n",
       "      <td>8.0</td>\n",
       "      <td>9.0</td>\n",
       "      <td>10.0</td>\n",
       "      <td>10.0</td>\n",
       "      <td>9.0</td>\n",
       "      <td>False</td>\n",
       "      <td>False</td>\n",
       "      <td>Middle price</td>\n",
       "      <td>Good Rating</td>\n",
       "      <td>Single Accomodation</td>\n",
       "    </tr>\n",
       "    <tr>\n",
       "      <th>7</th>\n",
       "      <td>69780867</td>\n",
       "      <td>2016-04-13</td>\n",
       "      <td>53960263</td>\n",
       "      <td>Aki es sin duda el mejor host q uno puede tene...</td>\n",
       "      <td>10006647</td>\n",
       "      <td>Very central and very quite</td>\n",
       "      <td>40791092</td>\n",
       "      <td>2015-08-07</td>\n",
       "      <td>within a few hours</td>\n",
       "      <td>100.0</td>\n",
       "      <td>False</td>\n",
       "      <td>Mitte</td>\n",
       "      <td>Berlin</td>\n",
       "      <td>10178.0</td>\n",
       "      <td>Germany</td>\n",
       "      <td>52.52134</td>\n",
       "      <td>13.41866</td>\n",
       "      <td>Apartment</td>\n",
       "      <td>Private room</td>\n",
       "      <td>2</td>\n",
       "      <td>1.0</td>\n",
       "      <td>1.0</td>\n",
       "      <td>1.0</td>\n",
       "      <td>35.0</td>\n",
       "      <td>1</td>\n",
       "      <td>1</td>\n",
       "      <td>20</td>\n",
       "      <td>2016-01-03</td>\n",
       "      <td>2017-02-12</td>\n",
       "      <td>92.0</td>\n",
       "      <td>9.0</td>\n",
       "      <td>8.0</td>\n",
       "      <td>9.0</td>\n",
       "      <td>10.0</td>\n",
       "      <td>10.0</td>\n",
       "      <td>9.0</td>\n",
       "      <td>False</td>\n",
       "      <td>False</td>\n",
       "      <td>Middle price</td>\n",
       "      <td>Good Rating</td>\n",
       "      <td>Single Accomodation</td>\n",
       "    </tr>\n",
       "    <tr>\n",
       "      <th>8</th>\n",
       "      <td>70426866</td>\n",
       "      <td>2016-04-17</td>\n",
       "      <td>26184931</td>\n",
       "      <td>We did not meer Aki, but we did meet FabiÃ¡n, ...</td>\n",
       "      <td>10006647</td>\n",
       "      <td>Very central and very quite</td>\n",
       "      <td>40791092</td>\n",
       "      <td>2015-08-07</td>\n",
       "      <td>within a few hours</td>\n",
       "      <td>100.0</td>\n",
       "      <td>False</td>\n",
       "      <td>Mitte</td>\n",
       "      <td>Berlin</td>\n",
       "      <td>10178.0</td>\n",
       "      <td>Germany</td>\n",
       "      <td>52.52134</td>\n",
       "      <td>13.41866</td>\n",
       "      <td>Apartment</td>\n",
       "      <td>Private room</td>\n",
       "      <td>2</td>\n",
       "      <td>1.0</td>\n",
       "      <td>1.0</td>\n",
       "      <td>1.0</td>\n",
       "      <td>35.0</td>\n",
       "      <td>1</td>\n",
       "      <td>1</td>\n",
       "      <td>20</td>\n",
       "      <td>2016-01-03</td>\n",
       "      <td>2017-02-12</td>\n",
       "      <td>92.0</td>\n",
       "      <td>9.0</td>\n",
       "      <td>8.0</td>\n",
       "      <td>9.0</td>\n",
       "      <td>10.0</td>\n",
       "      <td>10.0</td>\n",
       "      <td>9.0</td>\n",
       "      <td>False</td>\n",
       "      <td>False</td>\n",
       "      <td>Middle price</td>\n",
       "      <td>Good Rating</td>\n",
       "      <td>Single Accomodation</td>\n",
       "    </tr>\n",
       "    <tr>\n",
       "      <th>9</th>\n",
       "      <td>78320875</td>\n",
       "      <td>2016-06-06</td>\n",
       "      <td>12388715</td>\n",
       "      <td>Aki was an awesome host in Berlin. We got alon...</td>\n",
       "      <td>10006647</td>\n",
       "      <td>Very central and very quite</td>\n",
       "      <td>40791092</td>\n",
       "      <td>2015-08-07</td>\n",
       "      <td>within a few hours</td>\n",
       "      <td>100.0</td>\n",
       "      <td>False</td>\n",
       "      <td>Mitte</td>\n",
       "      <td>Berlin</td>\n",
       "      <td>10178.0</td>\n",
       "      <td>Germany</td>\n",
       "      <td>52.52134</td>\n",
       "      <td>13.41866</td>\n",
       "      <td>Apartment</td>\n",
       "      <td>Private room</td>\n",
       "      <td>2</td>\n",
       "      <td>1.0</td>\n",
       "      <td>1.0</td>\n",
       "      <td>1.0</td>\n",
       "      <td>35.0</td>\n",
       "      <td>1</td>\n",
       "      <td>1</td>\n",
       "      <td>20</td>\n",
       "      <td>2016-01-03</td>\n",
       "      <td>2017-02-12</td>\n",
       "      <td>92.0</td>\n",
       "      <td>9.0</td>\n",
       "      <td>8.0</td>\n",
       "      <td>9.0</td>\n",
       "      <td>10.0</td>\n",
       "      <td>10.0</td>\n",
       "      <td>9.0</td>\n",
       "      <td>False</td>\n",
       "      <td>False</td>\n",
       "      <td>Middle price</td>\n",
       "      <td>Good Rating</td>\n",
       "      <td>Single Accomodation</td>\n",
       "    </tr>\n",
       "  </tbody>\n",
       "</table>\n",
       "</div>"
      ],
      "text/plain": [
       "   Review ID Review_Date  Reviewer ID  \\\n",
       "0   58660447  2016-01-03     14876562   \n",
       "1   58663795  2016-01-03     49367757   \n",
       "2   59003619  2016-01-05     46694292   \n",
       "3   66845661  2016-03-25     54542819   \n",
       "4   67969785  2016-04-01     35352843   \n",
       "5   68816282  2016-04-06     48006291   \n",
       "6   69289363  2016-04-10     63759402   \n",
       "7   69780867  2016-04-13     53960263   \n",
       "8   70426866  2016-04-17     26184931   \n",
       "9   78320875  2016-06-06     12388715   \n",
       "\n",
       "                                      Rating_Comment  Listing ID  \\\n",
       "0  Very nice, clean appartement! Josh was really ...    10002699   \n",
       "1  Aki is really nice and friendly. We had an ama...    10006647   \n",
       "2  Aki is a very nice dude with a clean place in ...    10006647   \n",
       "3  Aki's place was easy to find and located in th...    10006647   \n",
       "4  We had to wait 30mins for Aki to arrive but ot...    10006647   \n",
       "5  Great room, very comfortable and clean. Aki an...    10006647   \n",
       "6  Aki was really friendly and available giving u...    10006647   \n",
       "7  Aki es sin duda el mejor host q uno puede tene...    10006647   \n",
       "8  We did not meer Aki, but we did meet FabiÃ¡n, ...    10006647   \n",
       "9  Aki was an awesome host in Berlin. We got alon...    10006647   \n",
       "\n",
       "                      Listing Name   Host ID  Host Since  Host Response Time  \\\n",
       "0  Trendy and peaceful KreuzkÃ¶lln  44696672  2015-09-20             Unknown   \n",
       "1      Very central and very quite  40791092  2015-08-07  within a few hours   \n",
       "2      Very central and very quite  40791092  2015-08-07  within a few hours   \n",
       "3      Very central and very quite  40791092  2015-08-07  within a few hours   \n",
       "4      Very central and very quite  40791092  2015-08-07  within a few hours   \n",
       "5      Very central and very quite  40791092  2015-08-07  within a few hours   \n",
       "6      Very central and very quite  40791092  2015-08-07  within a few hours   \n",
       "7      Very central and very quite  40791092  2015-08-07  within a few hours   \n",
       "8      Very central and very quite  40791092  2015-08-07  within a few hours   \n",
       "9      Very central and very quite  40791092  2015-08-07  within a few hours   \n",
       "\n",
       "  Host Response Rate  Is Superhost Neighborhood Group    City Postal Code  \\\n",
       "0            Unknown         False           Neukolln  Berlin     12047.0   \n",
       "1              100.0         False              Mitte  Berlin     10178.0   \n",
       "2              100.0         False              Mitte  Berlin     10178.0   \n",
       "3              100.0         False              Mitte  Berlin     10178.0   \n",
       "4              100.0         False              Mitte  Berlin     10178.0   \n",
       "5              100.0         False              Mitte  Berlin     10178.0   \n",
       "6              100.0         False              Mitte  Berlin     10178.0   \n",
       "7              100.0         False              Mitte  Berlin     10178.0   \n",
       "8              100.0         False              Mitte  Berlin     10178.0   \n",
       "9              100.0         False              Mitte  Berlin     10178.0   \n",
       "\n",
       "   Country  Latitude  Longitude Property Type        Room Type  Accomodates  \\\n",
       "0  Germany  52.49234   13.42994     Apartment  Entire home/apt            4   \n",
       "1  Germany  52.52134   13.41866     Apartment     Private room            2   \n",
       "2  Germany  52.52134   13.41866     Apartment     Private room            2   \n",
       "3  Germany  52.52134   13.41866     Apartment     Private room            2   \n",
       "4  Germany  52.52134   13.41866     Apartment     Private room            2   \n",
       "5  Germany  52.52134   13.41866     Apartment     Private room            2   \n",
       "6  Germany  52.52134   13.41866     Apartment     Private room            2   \n",
       "7  Germany  52.52134   13.41866     Apartment     Private room            2   \n",
       "8  Germany  52.52134   13.41866     Apartment     Private room            2   \n",
       "9  Germany  52.52134   13.41866     Apartment     Private room            2   \n",
       "\n",
       "   Bathrooms  Bedrooms  Beds  Price  Guests Included  Min Nights  Reviews  \\\n",
       "0        1.0       2.0   2.0   60.0                1           1        1   \n",
       "1        1.0       1.0   1.0   35.0                1           1       20   \n",
       "2        1.0       1.0   1.0   35.0                1           1       20   \n",
       "3        1.0       1.0   1.0   35.0                1           1       20   \n",
       "4        1.0       1.0   1.0   35.0                1           1       20   \n",
       "5        1.0       1.0   1.0   35.0                1           1       20   \n",
       "6        1.0       1.0   1.0   35.0                1           1       20   \n",
       "7        1.0       1.0   1.0   35.0                1           1       20   \n",
       "8        1.0       1.0   1.0   35.0                1           1       20   \n",
       "9        1.0       1.0   1.0   35.0                1           1       20   \n",
       "\n",
       "  First Review Last Review  Overall Rating  Accuracy Rating  \\\n",
       "0   2016-01-03  2016-01-03           100.0              8.0   \n",
       "1   2016-01-03  2017-02-12            92.0              9.0   \n",
       "2   2016-01-03  2017-02-12            92.0              9.0   \n",
       "3   2016-01-03  2017-02-12            92.0              9.0   \n",
       "4   2016-01-03  2017-02-12            92.0              9.0   \n",
       "5   2016-01-03  2017-02-12            92.0              9.0   \n",
       "6   2016-01-03  2017-02-12            92.0              9.0   \n",
       "7   2016-01-03  2017-02-12            92.0              9.0   \n",
       "8   2016-01-03  2017-02-12            92.0              9.0   \n",
       "9   2016-01-03  2017-02-12            92.0              9.0   \n",
       "\n",
       "   Cleanliness Rating  Checkin Rating  Communication Rating  Location Rating  \\\n",
       "0                10.0             6.0                  10.0             10.0   \n",
       "1                 8.0             9.0                  10.0             10.0   \n",
       "2                 8.0             9.0                  10.0             10.0   \n",
       "3                 8.0             9.0                  10.0             10.0   \n",
       "4                 8.0             9.0                  10.0             10.0   \n",
       "5                 8.0             9.0                  10.0             10.0   \n",
       "6                 8.0             9.0                  10.0             10.0   \n",
       "7                 8.0             9.0                  10.0             10.0   \n",
       "8                 8.0             9.0                  10.0             10.0   \n",
       "9                 8.0             9.0                  10.0             10.0   \n",
       "\n",
       "   Value Rating  Instant Bookable  Business Travel Ready Price category  \\\n",
       "0          10.0             False                  False   Middle price   \n",
       "1           9.0             False                  False   Middle price   \n",
       "2           9.0             False                  False   Middle price   \n",
       "3           9.0             False                  False   Middle price   \n",
       "4           9.0             False                  False   Middle price   \n",
       "5           9.0             False                  False   Middle price   \n",
       "6           9.0             False                  False   Middle price   \n",
       "7           9.0             False                  False   Middle price   \n",
       "8           9.0             False                  False   Middle price   \n",
       "9           9.0             False                  False   Middle price   \n",
       "\n",
       "  Rating Category    Accomodation Size  \n",
       "0     Good Rating  Couple Accomodation  \n",
       "1     Good Rating  Single Accomodation  \n",
       "2     Good Rating  Single Accomodation  \n",
       "3     Good Rating  Single Accomodation  \n",
       "4     Good Rating  Single Accomodation  \n",
       "5     Good Rating  Single Accomodation  \n",
       "6     Good Rating  Single Accomodation  \n",
       "7     Good Rating  Single Accomodation  \n",
       "8     Good Rating  Single Accomodation  \n",
       "9     Good Rating  Single Accomodation  "
      ]
     },
     "execution_count": 8,
     "metadata": {},
     "output_type": "execute_result"
    }
   ],
   "source": [
    "df.head(10)"
   ]
  },
  {
   "cell_type": "code",
   "execution_count": 9,
   "id": "707c35e9",
   "metadata": {},
   "outputs": [
    {
     "data": {
      "text/plain": [
       "(406402, 41)"
      ]
     },
     "execution_count": 9,
     "metadata": {},
     "output_type": "execute_result"
    }
   ],
   "source": [
    "# Display rows and columns\n",
    "df.shape"
   ]
  },
  {
   "cell_type": "markdown",
   "id": "e9114eab",
   "metadata": {},
   "source": [
    "#### Missing Values"
   ]
  },
  {
   "cell_type": "code",
   "execution_count": 10,
   "id": "627baffa",
   "metadata": {},
   "outputs": [
    {
     "data": {
      "text/plain": [
       "Review ID                  0\n",
       "Review_Date                0\n",
       "Reviewer ID                0\n",
       "Rating_Comment           195\n",
       "Listing ID                 0\n",
       "Listing Name             150\n",
       "Host ID                    0\n",
       "Host Since                 0\n",
       "Host Response Time         0\n",
       "Host Response Rate         0\n",
       "Is Superhost               0\n",
       "Neighborhood Group         0\n",
       "City                       0\n",
       "Postal Code                0\n",
       "Country                    0\n",
       "Latitude                   0\n",
       "Longitude                  0\n",
       "Property Type              0\n",
       "Room Type                  0\n",
       "Accomodates                0\n",
       "Bathrooms                  0\n",
       "Bedrooms                   0\n",
       "Beds                       0\n",
       "Price                      0\n",
       "Guests Included            0\n",
       "Min Nights                 0\n",
       "Reviews                    0\n",
       "First Review               0\n",
       "Last Review                0\n",
       "Overall Rating             0\n",
       "Accuracy Rating            0\n",
       "Cleanliness Rating         0\n",
       "Checkin Rating             0\n",
       "Communication Rating       0\n",
       "Location Rating            0\n",
       "Value Rating               0\n",
       "Instant Bookable           0\n",
       "Business Travel Ready      0\n",
       "Price category             0\n",
       "Rating Category            0\n",
       "Accomodation Size          0\n",
       "dtype: int64"
      ]
     },
     "execution_count": 10,
     "metadata": {},
     "output_type": "execute_result"
    }
   ],
   "source": [
    "# Check for missing values\n",
    "df.isnull().sum()"
   ]
  },
  {
   "cell_type": "code",
   "execution_count": 11,
   "id": "fed501b3",
   "metadata": {},
   "outputs": [
    {
     "data": {
      "text/plain": [
       "(406402,)"
      ]
     },
     "execution_count": 11,
     "metadata": {},
     "output_type": "execute_result"
    }
   ],
   "source": [
    "# Check for duplicates\n",
    "dups = df.duplicated()\n",
    "dups.shape # No Dups"
   ]
  },
  {
   "cell_type": "markdown",
   "id": "641b7f3e",
   "metadata": {},
   "source": [
    "### 3. Check extreme values"
   ]
  },
  {
   "cell_type": "code",
   "execution_count": 12,
   "id": "19ee6992",
   "metadata": {},
   "outputs": [
    {
     "data": {
      "text/plain": [
       "<seaborn.axisgrid.FacetGrid at 0x1ccc6e106d0>"
      ]
     },
     "execution_count": 12,
     "metadata": {},
     "output_type": "execute_result"
    },
    {
     "data": {
      "image/png": "[encoded data removed]",
      "text/plain": [
       "<Figure size 500x500 with 1 Axes>"
      ]
     },
     "metadata": {},
     "output_type": "display_data"
    }
   ],
   "source": [
    "sns.displot(df['Value Rating'], bins=10)"
   ]
  },
  {
   "cell_type": "code",
   "execution_count": 14,
   "id": "da695fc2",
   "metadata": {},
   "outputs": [
    {
     "data": {
      "text/plain": [
       "9.0"
      ]
     },
     "execution_count": 14,
     "metadata": {},
     "output_type": "execute_result"
    }
   ],
   "source": [
    "# Check the median\n",
    "df['Value Rating'].median() # median"
   ]
  },
  {
   "cell_type": "code",
   "execution_count": 13,
   "id": "41a490b7",
   "metadata": {},
   "outputs": [
    {
     "data": {
      "text/plain": [
       "count    406402.000000\n",
       "mean          9.426066\n",
       "std           0.580784\n",
       "min           2.000000\n",
       "25%           9.000000\n",
       "50%           9.000000\n",
       "75%          10.000000\n",
       "max          10.000000\n",
       "Name: Value Rating, dtype: float64"
      ]
     },
     "execution_count": 13,
     "metadata": {},
     "output_type": "execute_result"
    }
   ],
   "source": [
    "df['Value Rating'].describe() # Mean = 9.42, Max = 10.0, Median = 9.0"
   ]
  },
  {
   "cell_type": "code",
   "execution_count": 15,
   "id": "b8f00a69",
   "metadata": {},
   "outputs": [
    {
     "data": {
      "text/plain": [
       "<seaborn.axisgrid.FacetGrid at 0x1ccc6e19290>"
      ]
     },
     "execution_count": 15,
     "metadata": {},
     "output_type": "execute_result"
    },
    {
     "data": {
      "image/png": "[encoded data removed]",
      "text/plain": [
       "<Figure size 500x500 with 1 Axes>"
      ]
     },
     "metadata": {},
     "output_type": "display_data"
    }
   ],
   "source": [
    "sns.displot(df['Accomodates'], bins=100) # Shows extreme values\n",
    "# I think some outliers need to be removed"
   ]
  },
  {
   "cell_type": "code",
   "execution_count": 16,
   "id": "e4a72062",
   "metadata": {},
   "outputs": [
    {
     "data": {
      "text/plain": [
       "count    406402.000000\n",
       "mean          3.151980\n",
       "std           1.989311\n",
       "min           1.000000\n",
       "25%           2.000000\n",
       "50%           2.000000\n",
       "75%           4.000000\n",
       "max          16.000000\n",
       "Name: Accomodates, dtype: float64"
      ]
     },
     "execution_count": 16,
     "metadata": {},
     "output_type": "execute_result"
    }
   ],
   "source": [
    "df['Accomodates'].describe() # Mean = 3.15, Max = 16.0, Median = 2.0"
   ]
  },
  {
   "cell_type": "markdown",
   "id": "686f494b",
   "metadata": {},
   "source": [
    "NOTE: From task 6.2 I already have scatterplots saved and I want to analyze Accomodates/Value Rating due to the highest correlation."
   ]
  },
  {
   "cell_type": "markdown",
   "id": "e5bc8308",
   "metadata": {},
   "source": [
    "### 4. Hypothesis: The more people can be accomodated the better the value rating."
   ]
  },
  {
   "cell_type": "markdown",
   "id": "0528d602",
   "metadata": {},
   "source": [
    "### 5. Data prep for regression analysis"
   ]
  },
  {
   "cell_type": "code",
   "execution_count": 17,
   "id": "81af807a",
   "metadata": {},
   "outputs": [
    {
     "data": {
      "image/png": "[encoded data removed]",
      "text/plain": [
       "<Figure size 640x480 with 1 Axes>"
      ]
     },
     "metadata": {},
     "output_type": "display_data"
    }
   ],
   "source": [
    "# Create a scatterplot using matplotlib for another look at how the chosen variables plot against each other\n",
    "df.plot(x = 'Accomodates', y='Value Rating',style='o') # The style option creates a scatterplot; without it, we only have lines.\n",
    "plt.title('Accomodates vs Value Rating')  \n",
    "plt.xlabel('Accomodates')  \n",
    "plt.ylabel('Value Rating') \n",
    "plt.show()"
   ]
  },
  {
   "cell_type": "code",
   "execution_count": 18,
   "id": "4f088f97",
   "metadata": {},
   "outputs": [],
   "source": [
    "# Reshape the variables into NumPy arrays and put them into separate objects\n",
    "X = df['Accomodates'].values.reshape(-1,1)\n",
    "y = df['Value Rating'].values.reshape(-1,1)"
   ]
  },
  {
   "cell_type": "code",
   "execution_count": 19,
   "id": "356ada05",
   "metadata": {},
   "outputs": [
    {
     "data": {
      "text/plain": [
       "array([[4],\n",
       "       [2],\n",
       "       [2],\n",
       "       ...,\n",
       "       [2],\n",
       "       [2],\n",
       "       [2]], dtype=int64)"
      ]
     },
     "execution_count": 19,
     "metadata": {},
     "output_type": "execute_result"
    }
   ],
   "source": [
    "X"
   ]
  },
  {
   "cell_type": "code",
   "execution_count": 20,
   "id": "cd676705",
   "metadata": {},
   "outputs": [
    {
     "data": {
      "text/plain": [
       "array([[10.],\n",
       "       [ 9.],\n",
       "       [ 9.],\n",
       "       ...,\n",
       "       [ 9.],\n",
       "       [ 9.],\n",
       "       [ 9.]])"
      ]
     },
     "execution_count": 20,
     "metadata": {},
     "output_type": "execute_result"
    }
   ],
   "source": [
    "y"
   ]
  },
  {
   "cell_type": "code",
   "execution_count": 21,
   "id": "babb409f",
   "metadata": {},
   "outputs": [],
   "source": [
    "# Split data into a training set and a test set\n",
    "X_train, X_test, y_train, y_test = train_test_split(X, y, test_size=0.3, random_state=0)"
   ]
  },
  {
   "cell_type": "markdown",
   "id": "d1f7eca7",
   "metadata": {},
   "source": [
    "### 6. Regressoin analysis"
   ]
  },
  {
   "cell_type": "code",
   "execution_count": 22,
   "id": "5ecef2df",
   "metadata": {},
   "outputs": [],
   "source": [
    "# Create a regression object.\n",
    "regression = LinearRegression()  \n",
    "# This is the regression object, which will be fit onto the training set"
   ]
  },
  {
   "cell_type": "code",
   "execution_count": 23,
   "id": "ed379c69",
   "metadata": {},
   "outputs": [
    {
     "data": {
      "text/html": [
       "<style>#sk-container-id-1 {color: black;}#sk-container-id-1 pre{padding: 0;}#sk-container-id-1 div.sk-toggleable {background-color: white;}#sk-container-id-1 label.sk-toggleable__label {cursor: pointer;display: block;width: 100%;margin-bottom: 0;padding: 0.3em;box-sizing: border-box;text-align: center;}#sk-container-id-1 label.sk-toggleable__label-arrow:before {content: \"▸\";float: left;margin-right: 0.25em;color: #696969;}#sk-container-id-1 label.sk-toggleable__label-arrow:hover:before {color: black;}#sk-container-id-1 div.sk-estimator:hover label.sk-toggleable__label-arrow:before {color: black;}#sk-container-id-1 div.sk-toggleable__content {max-height: 0;max-width: 0;overflow: hidden;text-align: left;background-color: #f0f8ff;}#sk-container-id-1 div.sk-toggleable__content pre {margin: 0.2em;color: black;border-radius: 0.25em;background-color: #f0f8ff;}#sk-container-id-1 input.sk-toggleable__control:checked~div.sk-toggleable__content {max-height: 200px;max-width: 100%;overflow: auto;}#sk-container-id-1 input.sk-toggleable__control:checked~label.sk-toggleable__label-arrow:before {content: \"▾\";}#sk-container-id-1 div.sk-estimator input.sk-toggleable__control:checked~label.sk-toggleable__label {background-color: #d4ebff;}#sk-container-id-1 div.sk-label input.sk-toggleable__control:checked~label.sk-toggleable__label {background-color: #d4ebff;}#sk-container-id-1 input.sk-hidden--visually {border: 0;clip: rect(1px 1px 1px 1px);clip: rect(1px, 1px, 1px, 1px);height: 1px;margin: -1px;overflow: hidden;padding: 0;position: absolute;width: 1px;}#sk-container-id-1 div.sk-estimator {font-family: monospace;background-color: #f0f8ff;border: 1px dotted black;border-radius: 0.25em;box-sizing: border-box;margin-bottom: 0.5em;}#sk-container-id-1 div.sk-estimator:hover {background-color: #d4ebff;}#sk-container-id-1 div.sk-parallel-item::after {content: \"\";width: 100%;border-bottom: 1px solid gray;flex-grow: 1;}#sk-container-id-1 div.sk-label:hover label.sk-toggleable__label {background-color: #d4ebff;}#sk-container-id-1 div.sk-serial::before {content: \"\";position: absolute;border-left: 1px solid gray;box-sizing: border-box;top: 0;bottom: 0;left: 50%;z-index: 0;}#sk-container-id-1 div.sk-serial {display: flex;flex-direction: column;align-items: center;background-color: white;padding-right: 0.2em;padding-left: 0.2em;position: relative;}#sk-container-id-1 div.sk-item {position: relative;z-index: 1;}#sk-container-id-1 div.sk-parallel {display: flex;align-items: stretch;justify-content: center;background-color: white;position: relative;}#sk-container-id-1 div.sk-item::before, #sk-container-id-1 div.sk-parallel-item::before {content: \"\";position: absolute;border-left: 1px solid gray;box-sizing: border-box;top: 0;bottom: 0;left: 50%;z-index: -1;}#sk-container-id-1 div.sk-parallel-item {display: flex;flex-direction: column;z-index: 1;position: relative;background-color: white;}#sk-container-id-1 div.sk-parallel-item:first-child::after {align-self: flex-end;width: 50%;}#sk-container-id-1 div.sk-parallel-item:last-child::after {align-self: flex-start;width: 50%;}#sk-container-id-1 div.sk-parallel-item:only-child::after {width: 0;}#sk-container-id-1 div.sk-dashed-wrapped {border: 1px dashed gray;margin: 0 0.4em 0.5em 0.4em;box-sizing: border-box;padding-bottom: 0.4em;background-color: white;}#sk-container-id-1 div.sk-label label {font-family: monospace;font-weight: bold;display: inline-block;line-height: 1.2em;}#sk-container-id-1 div.sk-label-container {text-align: center;}#sk-container-id-1 div.sk-container {/* jupyter's `normalize.less` sets `[hidden] { display: none; }` but bootstrap.min.css set `[hidden] { display: none !important; }` so we also need the `!important` here to be able to override the default hidden behavior on the sphinx rendered scikit-learn.org. See: https://github.com/scikit-learn/scikit-learn/issues/21755 */display: inline-block !important;position: relative;}#sk-container-id-1 div.sk-text-repr-fallback {display: none;}</style><div id=\"sk-container-id-1\" class=\"sk-top-container\"><div class=\"sk-text-repr-fallback\"><pre>LinearRegression()</pre><b>In a Jupyter environment, please rerun this cell to show the HTML representation or trust the notebook. <br />On GitHub, the HTML representation is unable to render, please try loading this page with nbviewer.org.</b></div><div class=\"sk-container\" hidden><div class=\"sk-item\"><div class=\"sk-estimator sk-toggleable\"><input class=\"sk-toggleable__control sk-hidden--visually\" id=\"sk-estimator-id-1\" type=\"checkbox\" checked><label for=\"sk-estimator-id-1\" class=\"sk-toggleable__label sk-toggleable__label-arrow\">LinearRegression</label><div class=\"sk-toggleable__content\"><pre>LinearRegression()</pre></div></div></div></div></div>"
      ],
      "text/plain": [
       "LinearRegression()"
      ]
     },
     "execution_count": 23,
     "metadata": {},
     "output_type": "execute_result"
    }
   ],
   "source": [
    "# Fit the regression object onto the training set\n",
    "regression.fit(X_train, y_train)"
   ]
  },
  {
   "cell_type": "code",
   "execution_count": 24,
   "id": "c3632f30",
   "metadata": {},
   "outputs": [],
   "source": [
    "# Predict the values of y using X\n",
    "y_predicted = regression.predict(X_test)"
   ]
  },
  {
   "cell_type": "code",
   "execution_count": 25,
   "id": "f03ce0ea",
   "metadata": {},
   "outputs": [
    {
     "data": {
      "image/png": "[encoded data removed]",
      "text/plain": [
       "<Figure size 640x480 with 1 Axes>"
      ]
     },
     "metadata": {},
     "output_type": "display_data"
    }
   ],
   "source": [
    "# Create a plot that shows the regression line from the model on the test set\n",
    "plot_test = plt\n",
    "plot_test.scatter(X_test, y_test, color='gray', s = 15)\n",
    "plot_test.plot(X_test, y_predicted, color='red', linewidth =3)\n",
    "plot_test.title('Accomodates vs Value Rating (Test set)')\n",
    "plot_test.xlabel('Accomodates')\n",
    "plot_test.ylabel('Value Rating')\n",
    "plot_test.show()"
   ]
  },
  {
   "cell_type": "markdown",
   "id": "79f7cbc5",
   "metadata": {},
   "source": [
    "NOTE: It doesnt look like the model is a good fit as the regression line is not in the direction of relationship"
   ]
  },
  {
   "cell_type": "code",
   "execution_count": 26,
   "id": "35d00867",
   "metadata": {},
   "outputs": [],
   "source": [
    "# Create objects that contain the model summary statistics\n",
    "rmse = mean_squared_error(y_test, y_predicted) # This is the mean squared error\n",
    "r2 = r2_score(y_test, y_predicted) # This is the R2 score. "
   ]
  },
  {
   "cell_type": "code",
   "execution_count": 27,
   "id": "7268c62b",
   "metadata": {},
   "outputs": [
    {
     "name": "stdout",
     "output_type": "stream",
     "text": [
      "Slope: [[-0.06930957]]\n",
      "Mean squared error:  0.3192023731234615\n",
      "R2 score:  0.057310881076104936\n"
     ]
    }
   ],
   "source": [
    "# Print model summary statistics\n",
    "print('Slope:' ,regression.coef_)\n",
    "print('Mean squared error: ', rmse)\n",
    "print('R2 score: ', r2)"
   ]
  },
  {
   "cell_type": "markdown",
   "id": "d57a4dd4",
   "metadata": {},
   "source": [
    "NOTE: Model performance is really bad. MSE of 0.3110993271703161 is relatively high compared to the variance and the R2 score of 0.054739342681216274 is also very low."
   ]
  },
  {
   "cell_type": "code",
   "execution_count": 28,
   "id": "e795f81f",
   "metadata": {},
   "outputs": [
    {
     "data": {
      "text/plain": [
       "array([[9.50518279],\n",
       "       [9.50518279],\n",
       "       [9.22794451],\n",
       "       ...,\n",
       "       [9.50518279],\n",
       "       [9.29725408],\n",
       "       [9.36656365]])"
      ]
     },
     "execution_count": 28,
     "metadata": {},
     "output_type": "execute_result"
    }
   ],
   "source": [
    "y_predicted"
   ]
  },
  {
   "cell_type": "code",
   "execution_count": 29,
   "id": "dc84ae99",
   "metadata": {},
   "outputs": [
    {
     "data": {
      "text/html": [
       "<div>\n",
       "<style scoped>\n",
       "    .dataframe tbody tr th:only-of-type {\n",
       "        vertical-align: middle;\n",
       "    }\n",
       "\n",
       "    .dataframe tbody tr th {\n",
       "        vertical-align: top;\n",
       "    }\n",
       "\n",
       "    .dataframe thead th {\n",
       "        text-align: right;\n",
       "    }\n",
       "</style>\n",
       "<table border=\"1\" class=\"dataframe\">\n",
       "  <thead>\n",
       "    <tr style=\"text-align: right;\">\n",
       "      <th></th>\n",
       "      <th>Actual</th>\n",
       "      <th>Predicted</th>\n",
       "    </tr>\n",
       "  </thead>\n",
       "  <tbody>\n",
       "    <tr>\n",
       "      <th>0</th>\n",
       "      <td>10.0</td>\n",
       "      <td>9.505183</td>\n",
       "    </tr>\n",
       "    <tr>\n",
       "      <th>1</th>\n",
       "      <td>9.0</td>\n",
       "      <td>9.505183</td>\n",
       "    </tr>\n",
       "    <tr>\n",
       "      <th>2</th>\n",
       "      <td>8.0</td>\n",
       "      <td>9.227945</td>\n",
       "    </tr>\n",
       "    <tr>\n",
       "      <th>3</th>\n",
       "      <td>9.0</td>\n",
       "      <td>9.297254</td>\n",
       "    </tr>\n",
       "    <tr>\n",
       "      <th>4</th>\n",
       "      <td>10.0</td>\n",
       "      <td>9.505183</td>\n",
       "    </tr>\n",
       "    <tr>\n",
       "      <th>5</th>\n",
       "      <td>10.0</td>\n",
       "      <td>9.505183</td>\n",
       "    </tr>\n",
       "    <tr>\n",
       "      <th>6</th>\n",
       "      <td>10.0</td>\n",
       "      <td>9.435873</td>\n",
       "    </tr>\n",
       "    <tr>\n",
       "      <th>7</th>\n",
       "      <td>10.0</td>\n",
       "      <td>9.297254</td>\n",
       "    </tr>\n",
       "    <tr>\n",
       "      <th>8</th>\n",
       "      <td>9.0</td>\n",
       "      <td>9.227945</td>\n",
       "    </tr>\n",
       "    <tr>\n",
       "      <th>9</th>\n",
       "      <td>8.0</td>\n",
       "      <td>9.505183</td>\n",
       "    </tr>\n",
       "    <tr>\n",
       "      <th>10</th>\n",
       "      <td>9.0</td>\n",
       "      <td>9.574492</td>\n",
       "    </tr>\n",
       "    <tr>\n",
       "      <th>11</th>\n",
       "      <td>9.0</td>\n",
       "      <td>9.227945</td>\n",
       "    </tr>\n",
       "    <tr>\n",
       "      <th>12</th>\n",
       "      <td>10.0</td>\n",
       "      <td>9.505183</td>\n",
       "    </tr>\n",
       "    <tr>\n",
       "      <th>13</th>\n",
       "      <td>8.0</td>\n",
       "      <td>9.366564</td>\n",
       "    </tr>\n",
       "    <tr>\n",
       "      <th>14</th>\n",
       "      <td>9.0</td>\n",
       "      <td>9.505183</td>\n",
       "    </tr>\n",
       "    <tr>\n",
       "      <th>15</th>\n",
       "      <td>10.0</td>\n",
       "      <td>9.505183</td>\n",
       "    </tr>\n",
       "    <tr>\n",
       "      <th>16</th>\n",
       "      <td>10.0</td>\n",
       "      <td>9.505183</td>\n",
       "    </tr>\n",
       "    <tr>\n",
       "      <th>17</th>\n",
       "      <td>9.0</td>\n",
       "      <td>9.227945</td>\n",
       "    </tr>\n",
       "    <tr>\n",
       "      <th>18</th>\n",
       "      <td>9.0</td>\n",
       "      <td>9.574492</td>\n",
       "    </tr>\n",
       "    <tr>\n",
       "      <th>19</th>\n",
       "      <td>9.0</td>\n",
       "      <td>9.435873</td>\n",
       "    </tr>\n",
       "    <tr>\n",
       "      <th>20</th>\n",
       "      <td>9.0</td>\n",
       "      <td>9.505183</td>\n",
       "    </tr>\n",
       "    <tr>\n",
       "      <th>21</th>\n",
       "      <td>9.0</td>\n",
       "      <td>9.366564</td>\n",
       "    </tr>\n",
       "    <tr>\n",
       "      <th>22</th>\n",
       "      <td>9.0</td>\n",
       "      <td>9.366564</td>\n",
       "    </tr>\n",
       "    <tr>\n",
       "      <th>23</th>\n",
       "      <td>9.0</td>\n",
       "      <td>9.505183</td>\n",
       "    </tr>\n",
       "    <tr>\n",
       "      <th>24</th>\n",
       "      <td>9.0</td>\n",
       "      <td>9.435873</td>\n",
       "    </tr>\n",
       "    <tr>\n",
       "      <th>25</th>\n",
       "      <td>10.0</td>\n",
       "      <td>9.505183</td>\n",
       "    </tr>\n",
       "    <tr>\n",
       "      <th>26</th>\n",
       "      <td>10.0</td>\n",
       "      <td>9.505183</td>\n",
       "    </tr>\n",
       "    <tr>\n",
       "      <th>27</th>\n",
       "      <td>9.0</td>\n",
       "      <td>9.505183</td>\n",
       "    </tr>\n",
       "    <tr>\n",
       "      <th>28</th>\n",
       "      <td>10.0</td>\n",
       "      <td>9.297254</td>\n",
       "    </tr>\n",
       "    <tr>\n",
       "      <th>29</th>\n",
       "      <td>9.0</td>\n",
       "      <td>9.158635</td>\n",
       "    </tr>\n",
       "  </tbody>\n",
       "</table>\n",
       "</div>"
      ],
      "text/plain": [
       "    Actual  Predicted\n",
       "0     10.0   9.505183\n",
       "1      9.0   9.505183\n",
       "2      8.0   9.227945\n",
       "3      9.0   9.297254\n",
       "4     10.0   9.505183\n",
       "5     10.0   9.505183\n",
       "6     10.0   9.435873\n",
       "7     10.0   9.297254\n",
       "8      9.0   9.227945\n",
       "9      8.0   9.505183\n",
       "10     9.0   9.574492\n",
       "11     9.0   9.227945\n",
       "12    10.0   9.505183\n",
       "13     8.0   9.366564\n",
       "14     9.0   9.505183\n",
       "15    10.0   9.505183\n",
       "16    10.0   9.505183\n",
       "17     9.0   9.227945\n",
       "18     9.0   9.574492\n",
       "19     9.0   9.435873\n",
       "20     9.0   9.505183\n",
       "21     9.0   9.366564\n",
       "22     9.0   9.366564\n",
       "23     9.0   9.505183\n",
       "24     9.0   9.435873\n",
       "25    10.0   9.505183\n",
       "26    10.0   9.505183\n",
       "27     9.0   9.505183\n",
       "28    10.0   9.297254\n",
       "29     9.0   9.158635"
      ]
     },
     "execution_count": 29,
     "metadata": {},
     "output_type": "execute_result"
    }
   ],
   "source": [
    "# Create a dataframe comparing the actual and predicted values of y.\n",
    "data = pd.DataFrame({'Actual': y_test.flatten(), 'Predicted': y_predicted.flatten()})\n",
    "data.head(30)"
   ]
  },
  {
   "cell_type": "markdown",
   "id": "38888b56",
   "metadata": {},
   "source": [
    "##### Compare how the regression fits the training set"
   ]
  },
  {
   "cell_type": "code",
   "execution_count": 30,
   "id": "aae2f47a",
   "metadata": {},
   "outputs": [],
   "source": [
    "# Predict.\n",
    "y_predicted_train = regression.predict(X_train) # This is predicting X_train!"
   ]
  },
  {
   "cell_type": "code",
   "execution_count": 31,
   "id": "4a9a89dd",
   "metadata": {},
   "outputs": [],
   "source": [
    "rmse = mean_squared_error(y_train, y_predicted_train)\n",
    "r2 = r2_score(y_train, y_predicted_train)"
   ]
  },
  {
   "cell_type": "code",
   "execution_count": 32,
   "id": "7ee9f9ad",
   "metadata": {},
   "outputs": [
    {
     "name": "stdout",
     "output_type": "stream",
     "text": [
      "Slope: [[-0.06930957]]\n",
      "Mean squared error:  0.317742218966707\n",
      "R2 score:  0.05644414740367598\n"
     ]
    }
   ],
   "source": [
    "print('Slope:' ,regression.coef_)\n",
    "print('Mean squared error: ', rmse)\n",
    "print('R2 score: ', r2)"
   ]
  },
  {
   "cell_type": "markdown",
   "id": "a92dcf41",
   "metadata": {},
   "source": [
    "NOTE: The MSE here is nearly the same as with the test set. Means the model isn't overfitted. The R2 score is a little bit better but still very low."
   ]
  },
  {
   "cell_type": "code",
   "execution_count": 33,
   "id": "e75025e9",
   "metadata": {},
   "outputs": [
    {
     "data": {
      "image/png": "[encoded data removed]",
      "text/plain": [
       "<Figure size 640x480 with 1 Axes>"
      ]
     },
     "metadata": {},
     "output_type": "display_data"
    }
   ],
   "source": [
    "# Visualizing the training set results.\n",
    "plot_test = plt\n",
    "plot_test.scatter(X_train, y_train, color='green', s = 15)\n",
    "plot_test.plot(X_train, y_predicted_train, color='red', linewidth =3)\n",
    "plot_test.title('Accomodates vs Value Rating (Train set)')\n",
    "plot_test.xlabel('Accomodates')\n",
    "plot_test.ylabel('Value Rating')\n",
    "plot_test.show()"
   ]
  },
  {
   "cell_type": "markdown",
   "id": "7021b350",
   "metadata": {},
   "source": [
    "### 7. Result/Conclusions"
   ]
  },
  {
   "cell_type": "markdown",
   "id": "ec9aaeee",
   "metadata": {},
   "source": [
    "#### Hypothesis: The more people can be accomodated the better the value rating.\n",
    "Only partially true.\n",
    "The number of accomodates isn't a good standalone indicator for better Value Rating.\n",
    "I think there are to many factors that influence the rating other than price. A multiple regression model could be a better fit.\n",
    "Something regarding bias to consider here is that people tend to only give a rating if the accomodation was bad. Even though AirBnB does a lot to get the users to rate the listings every time. So there could be some negativity bias here.¶"
   ]
  },
  {
   "cell_type": "markdown",
   "id": "1d67e314",
   "metadata": {},
   "source": [
    "### 8. New Hypothetis\n",
    "#### If Cleanliness Rating of the listing is higher, Price gets higher."
   ]
  },
  {
   "cell_type": "code",
   "execution_count": 34,
   "id": "dac9af0f",
   "metadata": {},
   "outputs": [
    {
     "data": {
      "text/plain": [
       "count    406402.000000\n",
       "mean          9.492744\n",
       "std           0.693829\n",
       "min           2.000000\n",
       "25%           9.000000\n",
       "50%          10.000000\n",
       "75%          10.000000\n",
       "max          10.000000\n",
       "Name: Cleanliness Rating, dtype: float64"
      ]
     },
     "execution_count": 34,
     "metadata": {},
     "output_type": "execute_result"
    }
   ],
   "source": [
    "df['Cleanliness Rating'].describe()"
   ]
  },
  {
   "cell_type": "code",
   "execution_count": 35,
   "id": "41d75c24",
   "metadata": {},
   "outputs": [
    {
     "data": {
      "image/png": "[encoded data removed]",
      "text/plain": [
       "<Figure size 640x480 with 1 Axes>"
      ]
     },
     "metadata": {},
     "output_type": "display_data"
    }
   ],
   "source": [
    "# Create a scatterplot using matplotlib for another look at how the chosen variables plot against each other.\n",
    "df.plot(x = 'Cleanliness Rating', y='Price',style='o') # The style option creates a scatterplot; without it, we only have lines.\n",
    "plt.title('Cleanliness Rating vs Price')  \n",
    "plt.xlabel('Cleanliness Rating')  \n",
    "plt.ylabel('Price')  \n",
    "plt.show()"
   ]
  },
  {
   "cell_type": "code",
   "execution_count": 37,
   "id": "5bc1414c",
   "metadata": {},
   "outputs": [],
   "source": [
    "# Reshape the variables into NumPy arrays and put them into separate objects.\n",
    "X_2 = df['Cleanliness Rating'].values.reshape(-1,1)\n",
    "y_2 = df['Price'].values.reshape(-1,1)"
   ]
  },
  {
   "cell_type": "code",
   "execution_count": 38,
   "id": "f9a20488",
   "metadata": {},
   "outputs": [
    {
     "data": {
      "text/plain": [
       "array([[10.],\n",
       "       [ 8.],\n",
       "       [ 8.],\n",
       "       ...,\n",
       "       [ 9.],\n",
       "       [ 9.],\n",
       "       [ 9.]])"
      ]
     },
     "execution_count": 38,
     "metadata": {},
     "output_type": "execute_result"
    }
   ],
   "source": [
    "X_2"
   ]
  },
  {
   "cell_type": "code",
   "execution_count": 39,
   "id": "1bfbdad7",
   "metadata": {},
   "outputs": [
    {
     "data": {
      "text/plain": [
       "array([[60.],\n",
       "       [35.],\n",
       "       [35.],\n",
       "       ...,\n",
       "       [80.],\n",
       "       [80.],\n",
       "       [80.]])"
      ]
     },
     "execution_count": 39,
     "metadata": {},
     "output_type": "execute_result"
    }
   ],
   "source": [
    "y_2"
   ]
  },
  {
   "cell_type": "code",
   "execution_count": 40,
   "id": "8ef85604",
   "metadata": {},
   "outputs": [],
   "source": [
    "# Split data into a training set and a test set.\n",
    "X_2_train, X_2_test, y_2_train, y_2_test = train_test_split(X_2, y_2, test_size=0.3, random_state=0)"
   ]
  },
  {
   "cell_type": "code",
   "execution_count": 41,
   "id": "1047d753",
   "metadata": {},
   "outputs": [
    {
     "data": {
      "text/html": [
       "<style>#sk-container-id-2 {color: black;}#sk-container-id-2 pre{padding: 0;}#sk-container-id-2 div.sk-toggleable {background-color: white;}#sk-container-id-2 label.sk-toggleable__label {cursor: pointer;display: block;width: 100%;margin-bottom: 0;padding: 0.3em;box-sizing: border-box;text-align: center;}#sk-container-id-2 label.sk-toggleable__label-arrow:before {content: \"▸\";float: left;margin-right: 0.25em;color: #696969;}#sk-container-id-2 label.sk-toggleable__label-arrow:hover:before {color: black;}#sk-container-id-2 div.sk-estimator:hover label.sk-toggleable__label-arrow:before {color: black;}#sk-container-id-2 div.sk-toggleable__content {max-height: 0;max-width: 0;overflow: hidden;text-align: left;background-color: #f0f8ff;}#sk-container-id-2 div.sk-toggleable__content pre {margin: 0.2em;color: black;border-radius: 0.25em;background-color: #f0f8ff;}#sk-container-id-2 input.sk-toggleable__control:checked~div.sk-toggleable__content {max-height: 200px;max-width: 100%;overflow: auto;}#sk-container-id-2 input.sk-toggleable__control:checked~label.sk-toggleable__label-arrow:before {content: \"▾\";}#sk-container-id-2 div.sk-estimator input.sk-toggleable__control:checked~label.sk-toggleable__label {background-color: #d4ebff;}#sk-container-id-2 div.sk-label input.sk-toggleable__control:checked~label.sk-toggleable__label {background-color: #d4ebff;}#sk-container-id-2 input.sk-hidden--visually {border: 0;clip: rect(1px 1px 1px 1px);clip: rect(1px, 1px, 1px, 1px);height: 1px;margin: -1px;overflow: hidden;padding: 0;position: absolute;width: 1px;}#sk-container-id-2 div.sk-estimator {font-family: monospace;background-color: #f0f8ff;border: 1px dotted black;border-radius: 0.25em;box-sizing: border-box;margin-bottom: 0.5em;}#sk-container-id-2 div.sk-estimator:hover {background-color: #d4ebff;}#sk-container-id-2 div.sk-parallel-item::after {content: \"\";width: 100%;border-bottom: 1px solid gray;flex-grow: 1;}#sk-container-id-2 div.sk-label:hover label.sk-toggleable__label {background-color: #d4ebff;}#sk-container-id-2 div.sk-serial::before {content: \"\";position: absolute;border-left: 1px solid gray;box-sizing: border-box;top: 0;bottom: 0;left: 50%;z-index: 0;}#sk-container-id-2 div.sk-serial {display: flex;flex-direction: column;align-items: center;background-color: white;padding-right: 0.2em;padding-left: 0.2em;position: relative;}#sk-container-id-2 div.sk-item {position: relative;z-index: 1;}#sk-container-id-2 div.sk-parallel {display: flex;align-items: stretch;justify-content: center;background-color: white;position: relative;}#sk-container-id-2 div.sk-item::before, #sk-container-id-2 div.sk-parallel-item::before {content: \"\";position: absolute;border-left: 1px solid gray;box-sizing: border-box;top: 0;bottom: 0;left: 50%;z-index: -1;}#sk-container-id-2 div.sk-parallel-item {display: flex;flex-direction: column;z-index: 1;position: relative;background-color: white;}#sk-container-id-2 div.sk-parallel-item:first-child::after {align-self: flex-end;width: 50%;}#sk-container-id-2 div.sk-parallel-item:last-child::after {align-self: flex-start;width: 50%;}#sk-container-id-2 div.sk-parallel-item:only-child::after {width: 0;}#sk-container-id-2 div.sk-dashed-wrapped {border: 1px dashed gray;margin: 0 0.4em 0.5em 0.4em;box-sizing: border-box;padding-bottom: 0.4em;background-color: white;}#sk-container-id-2 div.sk-label label {font-family: monospace;font-weight: bold;display: inline-block;line-height: 1.2em;}#sk-container-id-2 div.sk-label-container {text-align: center;}#sk-container-id-2 div.sk-container {/* jupyter's `normalize.less` sets `[hidden] { display: none; }` but bootstrap.min.css set `[hidden] { display: none !important; }` so we also need the `!important` here to be able to override the default hidden behavior on the sphinx rendered scikit-learn.org. See: https://github.com/scikit-learn/scikit-learn/issues/21755 */display: inline-block !important;position: relative;}#sk-container-id-2 div.sk-text-repr-fallback {display: none;}</style><div id=\"sk-container-id-2\" class=\"sk-top-container\"><div class=\"sk-text-repr-fallback\"><pre>LinearRegression()</pre><b>In a Jupyter environment, please rerun this cell to show the HTML representation or trust the notebook. <br />On GitHub, the HTML representation is unable to render, please try loading this page with nbviewer.org.</b></div><div class=\"sk-container\" hidden><div class=\"sk-item\"><div class=\"sk-estimator sk-toggleable\"><input class=\"sk-toggleable__control sk-hidden--visually\" id=\"sk-estimator-id-2\" type=\"checkbox\" checked><label for=\"sk-estimator-id-2\" class=\"sk-toggleable__label sk-toggleable__label-arrow\">LinearRegression</label><div class=\"sk-toggleable__content\"><pre>LinearRegression()</pre></div></div></div></div></div>"
      ],
      "text/plain": [
       "LinearRegression()"
      ]
     },
     "execution_count": 41,
     "metadata": {},
     "output_type": "execute_result"
    }
   ],
   "source": [
    "# Create a regression object.\n",
    "regression = LinearRegression()  \n",
    "\n",
    "# Fit the regression object onto the training set.\n",
    "regression.fit(X_2_train, y_2_train)"
   ]
  },
  {
   "cell_type": "code",
   "execution_count": 43,
   "id": "2fc78dca",
   "metadata": {},
   "outputs": [],
   "source": [
    "# Predict the values of y using X.\n",
    "y_2_predicted = regression.predict(X_2_test)"
   ]
  },
  {
   "cell_type": "code",
   "execution_count": 44,
   "id": "b401e02e",
   "metadata": {},
   "outputs": [
    {
     "data": {
      "image/png": "[encoded data removed]",
      "text/plain": [
       "<Figure size 640x480 with 1 Axes>"
      ]
     },
     "metadata": {},
     "output_type": "display_data"
    }
   ],
   "source": [
    "# Create a plot that shows the regression line from the model on the test set.\n",
    "plot_test_2 = plt\n",
    "plot_test_2.scatter(X_2_test, y_2_test, color='green', s = 15)\n",
    "plot_test_2.plot(X_2_test, y_2_predicted, color='red', linewidth =3)\n",
    "plot_test_2.title('Cleanliness Rating Vs Price per Listing (Test set)')\n",
    "plot_test_2.xlabel('Cleanliness Rating')\n",
    "plot_test_2.ylabel('Price per Listing')\n",
    "plot_test_2.show()"
   ]
  },
  {
   "cell_type": "code",
   "execution_count": 45,
   "id": "b8c882ac",
   "metadata": {},
   "outputs": [],
   "source": [
    "# Create objects that contain the model summary statistics.\n",
    "rmse_2 = mean_squared_error(y_2_test, y_2_predicted) #  mean squared error\n",
    "r2_2 = r2_score(y_2_test, y_2_predicted) #  R2 score. "
   ]
  },
  {
   "cell_type": "code",
   "execution_count": 46,
   "id": "2c1c500e",
   "metadata": {},
   "outputs": [
    {
     "name": "stdout",
     "output_type": "stream",
     "text": [
      "Slope: [[5.69280001]]\n",
      "Mean squared error:  6795.785351325448\n",
      "R2 score:  0.00199670442741684\n"
     ]
    }
   ],
   "source": [
    "# Print the model summary statistics. This is where you evaluate the performance of the model.\n",
    "print('Slope:' ,regression.coef_)\n",
    "print('Mean squared error: ', rmse_2)\n",
    "print('R2 score: ', r2_2)"
   ]
  },
  {
   "cell_type": "code",
   "execution_count": 47,
   "id": "491bf10f",
   "metadata": {},
   "outputs": [
    {
     "data": {
      "text/plain": [
       "array([[72.9687775 ],\n",
       "       [67.27597749],\n",
       "       [67.27597749],\n",
       "       ...,\n",
       "       [72.9687775 ],\n",
       "       [72.9687775 ],\n",
       "       [72.9687775 ]])"
      ]
     },
     "execution_count": 47,
     "metadata": {},
     "output_type": "execute_result"
    }
   ],
   "source": [
    "y_2_predicted"
   ]
  },
  {
   "cell_type": "code",
   "execution_count": 48,
   "id": "5419a882",
   "metadata": {},
   "outputs": [
    {
     "data": {
      "text/html": [
       "<div>\n",
       "<style scoped>\n",
       "    .dataframe tbody tr th:only-of-type {\n",
       "        vertical-align: middle;\n",
       "    }\n",
       "\n",
       "    .dataframe tbody tr th {\n",
       "        vertical-align: top;\n",
       "    }\n",
       "\n",
       "    .dataframe thead th {\n",
       "        text-align: right;\n",
       "    }\n",
       "</style>\n",
       "<table border=\"1\" class=\"dataframe\">\n",
       "  <thead>\n",
       "    <tr style=\"text-align: right;\">\n",
       "      <th></th>\n",
       "      <th>Actual</th>\n",
       "      <th>Predicted</th>\n",
       "    </tr>\n",
       "  </thead>\n",
       "  <tbody>\n",
       "    <tr>\n",
       "      <th>0</th>\n",
       "      <td>40.0</td>\n",
       "      <td>72.968777</td>\n",
       "    </tr>\n",
       "    <tr>\n",
       "      <th>1</th>\n",
       "      <td>80.0</td>\n",
       "      <td>67.275977</td>\n",
       "    </tr>\n",
       "    <tr>\n",
       "      <th>2</th>\n",
       "      <td>155.0</td>\n",
       "      <td>67.275977</td>\n",
       "    </tr>\n",
       "    <tr>\n",
       "      <th>3</th>\n",
       "      <td>80.0</td>\n",
       "      <td>67.275977</td>\n",
       "    </tr>\n",
       "    <tr>\n",
       "      <th>4</th>\n",
       "      <td>45.0</td>\n",
       "      <td>72.968777</td>\n",
       "    </tr>\n",
       "    <tr>\n",
       "      <th>5</th>\n",
       "      <td>29.0</td>\n",
       "      <td>72.968777</td>\n",
       "    </tr>\n",
       "    <tr>\n",
       "      <th>6</th>\n",
       "      <td>33.0</td>\n",
       "      <td>72.968777</td>\n",
       "    </tr>\n",
       "    <tr>\n",
       "      <th>7</th>\n",
       "      <td>76.0</td>\n",
       "      <td>67.275977</td>\n",
       "    </tr>\n",
       "    <tr>\n",
       "      <th>8</th>\n",
       "      <td>210.0</td>\n",
       "      <td>67.275977</td>\n",
       "    </tr>\n",
       "    <tr>\n",
       "      <th>9</th>\n",
       "      <td>65.0</td>\n",
       "      <td>72.968777</td>\n",
       "    </tr>\n",
       "  </tbody>\n",
       "</table>\n",
       "</div>"
      ],
      "text/plain": [
       "   Actual  Predicted\n",
       "0    40.0  72.968777\n",
       "1    80.0  67.275977\n",
       "2   155.0  67.275977\n",
       "3    80.0  67.275977\n",
       "4    45.0  72.968777\n",
       "5    29.0  72.968777\n",
       "6    33.0  72.968777\n",
       "7    76.0  67.275977\n",
       "8   210.0  67.275977\n",
       "9    65.0  72.968777"
      ]
     },
     "execution_count": 48,
     "metadata": {},
     "output_type": "execute_result"
    }
   ],
   "source": [
    "# Create a dataframe comparing the actual and predicted values of y.\n",
    "data_2 = pd.DataFrame({'Actual': y_2_test.flatten(), 'Predicted': y_2_predicted.flatten()})\n",
    "data_2.head(10)"
   ]
  },
  {
   "cell_type": "code",
   "execution_count": 49,
   "id": "c15af142",
   "metadata": {},
   "outputs": [],
   "source": [
    "# Predict.\n",
    "y_2_predicted_train = regression.predict(X_2_train) # This is predicting X_train!"
   ]
  },
  {
   "cell_type": "code",
   "execution_count": 50,
   "id": "b50b02f2",
   "metadata": {},
   "outputs": [],
   "source": [
    "rmse_2 = mean_squared_error(y_2_train, y_2_predicted_train)\n",
    "r2_2 = r2_score(y_2_train, y_2_predicted_train)"
   ]
  },
  {
   "cell_type": "code",
   "execution_count": 51,
   "id": "b99529dd",
   "metadata": {},
   "outputs": [
    {
     "name": "stdout",
     "output_type": "stream",
     "text": [
      "Slope: [[5.69280001]]\n",
      "Mean squared error:  7164.087092892915\n",
      "R2 score:  0.0021707533438379834\n"
     ]
    }
   ],
   "source": [
    "print('Slope:' ,regression.coef_)\n",
    "print('Mean squared error: ', rmse_2)\n",
    "print('R2 score: ', r2_2)"
   ]
  },
  {
   "cell_type": "code",
   "execution_count": 52,
   "id": "c1475f86",
   "metadata": {},
   "outputs": [
    {
     "data": {
      "image/png": "[encoded data removed]",
      "text/plain": [
       "<Figure size 640x480 with 1 Axes>"
      ]
     },
     "metadata": {},
     "output_type": "display_data"
    }
   ],
   "source": [
    "# Visualizing the training set results.\n",
    "plot_train_2 = plt\n",
    "plot_train_2.scatter(X_2_train, y_2_train, color='blue', s = 15)\n",
    "plot_train_2.plot(X_2_train, y_2_predicted_train, color='red', linewidth =4)\n",
    "plot_train_2.title('Cleanliness Rating vs Price per Listing (Train set)')\n",
    "plot_train_2.xlabel('Cleanliness Rating')\n",
    "plot_train_2.ylabel('Price per Listing')\n",
    "plot_train_2.show()"
   ]
  },
  {
   "cell_type": "markdown",
   "id": "70ec41ae",
   "metadata": {},
   "source": [
    "#### Conclusions:\n",
    "\n",
    "The +ve slope of 5 means that as X rises (as the Cleanliness Rating rises), y slightly drops (the Price rises). It shows there is a weak positive relationship between the variables.\n",
    "However, there is very high mean squared errors of 6795 & 7164 in the test and training regressions respectively. Moreover, the actual and predicted values vary greatly in size. As such, this high level of MSE means that the regression line is not very close to the observations, and therefore is clearly not a good fit.\n",
    "\n",
    "Lastly, we have very low R-squared values of 0.0012 and 0.0023 respectively. After looking at of these, it’s pretty clear that model isn’t performing well which highlights that these variables do not truly impact one another.\n",
    "Furthermore, it is likely that the Price per night of a stay could be influenced by other factors such as Room and/or Neighborhood."
   ]
  },
  {
   "cell_type": "code",
   "execution_count": null,
   "id": "62c998ce",
   "metadata": {},
   "outputs": [],
   "source": []
  }
 ],
 "metadata": {
  "kernelspec": {
   "display_name": "Python 3 (ipykernel)",
   "language": "python",
   "name": "python3"
  },
  "language_info": {
   "codemirror_mode": {
    "name": "ipython",
    "version": 3
   },
   "file_extension": ".py",
   "mimetype": "text/x-python",
   "name": "python",
   "nbconvert_exporter": "python",
   "pygments_lexer": "ipython3",
   "version": "3.11.4"
  }
 },
 "nbformat": 4,
 "nbformat_minor": 5
}
